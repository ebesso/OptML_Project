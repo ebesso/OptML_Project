{
 "cells": [
  {
   "cell_type": "code",
   "execution_count": 1,
   "id": "e066d4f8",
   "metadata": {},
   "outputs": [],
   "source": [
    "import numpy as np\n",
    "from torchvision import datasets, transforms    \n",
    "import torch\n",
    "from torch.utils.data import DataLoader, random_split"
   ]
  },
  {
   "cell_type": "code",
   "execution_count": 2,
   "id": "8d8912e5",
   "metadata": {},
   "outputs": [],
   "source": [
    "from model import SimpleCNN\n",
    "model = SimpleCNN()"
   ]
  },
  {
   "cell_type": "code",
   "execution_count": 3,
   "id": "812b0778",
   "metadata": {},
   "outputs": [],
   "source": [
    "from loader import load\n",
    "train_loader, val_loader, test_loader = load()"
   ]
  },
  {
   "cell_type": "code",
   "execution_count": 4,
   "id": "5231906f",
   "metadata": {},
   "outputs": [],
   "source": [
    "from trainer import train as train_model\n",
    "from optimizer import LineSearchOptimizer "
   ]
  },
  {
   "cell_type": "code",
   "execution_count": 5,
   "id": "36c0c43d",
   "metadata": {},
   "outputs": [
    {
     "name": "stdout",
     "output_type": "stream",
     "text": [
      "Epoch [1/5], Loss: 2.1495\n",
      "Validation Loss: 2.1282, Accuracy: 37.60%\n",
      "Epoch [2/5], Loss: 1.7232\n",
      "Validation Loss: 1.3772, Accuracy: 56.31%\n",
      "Epoch [3/5], Loss: 1.4602\n",
      "Validation Loss: 1.3772, Accuracy: 56.31%\n",
      "Epoch [4/5], Loss: 1.4594\n",
      "Validation Loss: 1.3772, Accuracy: 56.31%\n",
      "Epoch [5/5], Loss: 1.4586\n",
      "Validation Loss: 1.3772, Accuracy: 56.31%\n"
     ]
    }
   ],
   "source": [
    "device = torch.device(\"mps\" if torch.mps.is_available() else \"cpu\")\n",
    "\n",
    "model.to(device)\n",
    "\n",
    "criterion = torch.nn.CrossEntropyLoss()\n",
    "optimizer = LineSearchOptimizer(model.parameters(), criterion, 2, 0.5, 1, 0, 1) \n",
    "\n",
    "model = train_model(model, train_loader, val_loader, optimizer, criterion, device, 5)"
   ]
  }
 ],
 "metadata": {
  "kernelspec": {
   "display_name": "optml",
   "language": "python",
   "name": "python3"
  },
  "language_info": {
   "codemirror_mode": {
    "name": "ipython",
    "version": 3
   },
   "file_extension": ".py",
   "mimetype": "text/x-python",
   "name": "python",
   "nbconvert_exporter": "python",
   "pygments_lexer": "ipython3",
   "version": "3.12.10"
  }
 },
 "nbformat": 4,
 "nbformat_minor": 5
}
