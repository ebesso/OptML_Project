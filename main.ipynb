{
 "cells": [
  {
   "cell_type": "code",
   "execution_count": 1,
   "id": "e066d4f8",
   "metadata": {},
   "outputs": [],
   "source": [
    "import numpy as np\n",
    "from torchvision import datasets, transforms    \n",
    "import torch\n",
    "from torch.utils.data import DataLoader, random_split"
   ]
  },
  {
   "cell_type": "code",
   "execution_count": 2,
   "id": "edb97582",
   "metadata": {},
   "outputs": [],
   "source": [
    "transform = transforms.Compose([\n",
    "    transforms.ToTensor()  \n",
    "])"
   ]
  },
  {
   "cell_type": "code",
   "execution_count": null,
   "id": "c98c19e2",
   "metadata": {},
   "outputs": [],
   "source": [
    "from torch.utils.data import Subset\n"
   ]
  },
  {
   "cell_type": "code",
   "execution_count": 4,
   "id": "8d8912e5",
   "metadata": {},
   "outputs": [],
   "source": [
    "from model import SimpleCNN\n",
    "model = SimpleCNN()"
   ]
  },
  {
   "cell_type": "code",
   "execution_count": null,
   "id": "812b0778",
   "metadata": {},
   "outputs": [],
   "source": [
    "from loader import load\n",
    "train_loader, val_loader, test_loader = load()"
   ]
  },
  {
   "cell_type": "code",
   "execution_count": 5,
   "id": "5231906f",
   "metadata": {},
   "outputs": [],
   "source": [
    "from trainer import train as train_model\n",
    "from optimizer import RandomOptimizer"
   ]
  },
  {
   "cell_type": "code",
   "execution_count": 6,
   "id": "36c0c43d",
   "metadata": {},
   "outputs": [
    {
     "name": "stdout",
     "output_type": "stream",
     "text": [
      "Epoch [1/5], Loss: 0.9772\n",
      "Validation Loss: 0.5674, Accuracy: 78.88%\n",
      "Epoch [2/5], Loss: 0.5847\n",
      "Validation Loss: 0.4621, Accuracy: 83.24%\n",
      "Epoch [3/5], Loss: 0.4975\n",
      "Validation Loss: 0.4051, Accuracy: 85.11%\n",
      "Epoch [4/5], Loss: 0.4454\n",
      "Validation Loss: 0.3738, Accuracy: 86.01%\n",
      "Epoch [5/5], Loss: 0.4081\n",
      "Validation Loss: 0.3585, Accuracy: 86.78%\n"
     ]
    }
   ],
   "source": [
    "train_loader = torch.utils.data.DataLoader(dataset=train_dataset, batch_size=64, shuffle=True)\n",
    "val_loader = torch.utils.data.DataLoader(dataset=val_dataset, batch_size=64, shuffle=False)\n",
    "test_loader = torch.utils.data.DataLoader(dataset=test_dataset, batch_size=64, shuffle=False)\n",
    "\n",
    "device = torch.device(\"mps\" if torch.mps.is_available() else \"cpu\")\n",
    "\n",
    "model.to(device)\n",
    "\n",
    "optimizer = RandomOptimizer(model.parameters()) \n",
    "criterion = torch.nn.CrossEntropyLoss()\n",
    "\n",
    "model = train_model(model, train_loader, val_loader, optimizer, criterion, device, 5)"
   ]
  }
 ],
 "metadata": {
  "kernelspec": {
   "display_name": "optml",
   "language": "python",
   "name": "python3"
  },
  "language_info": {
   "codemirror_mode": {
    "name": "ipython",
    "version": 3
   },
   "file_extension": ".py",
   "mimetype": "text/x-python",
   "name": "python",
   "nbconvert_exporter": "python",
   "pygments_lexer": "ipython3",
   "version": "3.12.2"
  }
 },
 "nbformat": 4,
 "nbformat_minor": 5
}
