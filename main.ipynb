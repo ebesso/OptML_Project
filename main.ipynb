{
 "cells": [
  {
   "cell_type": "code",
   "execution_count": 1,
   "id": "e066d4f8",
   "metadata": {},
   "outputs": [],
   "source": [
    "import numpy as np\n",
    "from torchvision import datasets, transforms    \n",
    "import torch\n",
    "from torch.utils.data import DataLoader, random_split"
   ]
  },
  {
   "cell_type": "code",
   "execution_count": 2,
   "id": "8d8912e5",
   "metadata": {},
   "outputs": [],
   "source": [
    "from model import SimpleCNN\n",
    "model = SimpleCNN()"
   ]
  },
  {
   "cell_type": "code",
   "execution_count": 3,
   "id": "812b0778",
   "metadata": {},
   "outputs": [],
   "source": [
    "from loader import load\n",
    "train_loader, val_loader, test_loader = load()"
   ]
  },
  {
   "cell_type": "code",
   "execution_count": null,
   "id": "5231906f",
   "metadata": {},
   "outputs": [
    {
     "ename": "ImportError",
     "evalue": "cannot import name 'LineOptimizer' from 'optimizer' (/Users/erik/Code/epfl/OptML_Project/optimizer.py)",
     "output_type": "error",
     "traceback": [
      "\u001b[31m---------------------------------------------------------------------------\u001b[39m",
      "\u001b[31mImportError\u001b[39m                               Traceback (most recent call last)",
      "\u001b[36mCell\u001b[39m\u001b[36m \u001b[39m\u001b[32mIn[4]\u001b[39m\u001b[32m, line 2\u001b[39m\n\u001b[32m      1\u001b[39m \u001b[38;5;28;01mfrom\u001b[39;00m\u001b[38;5;250m \u001b[39m\u001b[34;01mtrainer\u001b[39;00m\u001b[38;5;250m \u001b[39m\u001b[38;5;28;01mimport\u001b[39;00m train \u001b[38;5;28;01mas\u001b[39;00m train_model\n\u001b[32m----> \u001b[39m\u001b[32m2\u001b[39m \u001b[38;5;28;01mfrom\u001b[39;00m\u001b[38;5;250m \u001b[39m\u001b[34;01moptimizer\u001b[39;00m\u001b[38;5;250m \u001b[39m\u001b[38;5;28;01mimport\u001b[39;00m RandomOptimizer, LineOptimizer\n",
      "\u001b[31mImportError\u001b[39m: cannot import name 'LineOptimizer' from 'optimizer' (/Users/erik/Code/epfl/OptML_Project/optimizer.py)"
     ]
    }
   ],
   "source": [
    "from trainer import train as train_model\n",
    "from optimizer import RandomOptimizer "
   ]
  },
  {
   "cell_type": "code",
   "execution_count": null,
   "id": "36c0c43d",
   "metadata": {},
   "outputs": [
    {
     "name": "stdout",
     "output_type": "stream",
     "text": [
      "Epoch [1/5], Loss: 0.9548\n",
      "Validation Loss: 0.6229, Accuracy: 76.50%\n",
      "Epoch [2/5], Loss: 0.6207\n",
      "Validation Loss: 0.4737, Accuracy: 82.53%\n",
      "Epoch [3/5], Loss: 0.5211\n",
      "Validation Loss: 0.4060, Accuracy: 85.12%\n",
      "Epoch [4/5], Loss: 0.4608\n",
      "Validation Loss: 0.3828, Accuracy: 86.04%\n",
      "Epoch [5/5], Loss: 0.4242\n",
      "Validation Loss: 0.3537, Accuracy: 86.89%\n"
     ]
    }
   ],
   "source": [
    "device = torch.device(\"mps\" if torch.mps.is_available() else \"cpu\")\n",
    "\n",
    "model.to(device)\n",
    "\n",
    "criterion = torch.nn.MSELoss()\n",
    "optimizer = RandomOptimizer(model.parameters()) \n",
    "\n",
    "model = train_model(model, train_loader, val_loader, optimizer, criterion, device, 5)"
   ]
  }
 ],
 "metadata": {
  "kernelspec": {
   "display_name": "optml",
   "language": "python",
   "name": "python3"
  },
  "language_info": {
   "codemirror_mode": {
    "name": "ipython",
    "version": 3
   },
   "file_extension": ".py",
   "mimetype": "text/x-python",
   "name": "python",
   "nbconvert_exporter": "python",
   "pygments_lexer": "ipython3",
   "version": "3.12.2"
  }
 },
 "nbformat": 4,
 "nbformat_minor": 5
}
