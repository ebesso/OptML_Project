{
 "cells": [
  {
   "cell_type": "code",
   "execution_count": 1,
   "id": "e066d4f8",
   "metadata": {},
   "outputs": [],
   "source": [
    "import torch"
   ]
  },
  {
   "cell_type": "code",
   "execution_count": 2,
   "id": "8d8912e5",
   "metadata": {},
   "outputs": [],
   "source": [
    "from model import SimpleCNN\n",
    "model = SimpleCNN()"
   ]
  },
  {
   "cell_type": "code",
   "execution_count": 3,
   "id": "812b0778",
   "metadata": {},
   "outputs": [],
   "source": [
    "from loader import load\n",
    "train_loader, val_loader, test_loader = load()"
   ]
  },
  {
   "cell_type": "code",
   "execution_count": 4,
   "id": "5231906f",
   "metadata": {},
   "outputs": [],
   "source": [
    "from trainer import train as train_model\n",
    "from optimizer import LineSearchOptimizer "
   ]
  },
  {
   "cell_type": "code",
   "execution_count": 5,
   "id": "36c0c43d",
   "metadata": {},
   "outputs": [
    {
     "name": "stdout",
     "output_type": "stream",
     "text": [
      "Using device: cpu\n",
      "Epoch [1/5], Loss: 0.6778\n",
      "Validation Loss: 0.3868, Accuracy: 85.80%\n",
      "Epoch [2/5], Loss: 0.4572\n",
      "Validation Loss: 0.3581, Accuracy: 86.47%\n",
      "Epoch [3/5], Loss: 0.4308\n",
      "Validation Loss: 0.3674, Accuracy: 86.87%\n",
      "Epoch [4/5], Loss: 0.4115\n",
      "Validation Loss: 0.3799, Accuracy: 86.40%\n",
      "Epoch [5/5], Loss: 0.3980\n",
      "Validation Loss: 0.3382, Accuracy: 88.04%\n"
     ]
    }
   ],
   "source": [
    "device = torch.device(\"cuda\" if torch.cuda.is_available() else \"mps\" if torch.mps.is_available() else \"cpu\")\n",
    "print(\"Using device:\", device)\n",
    "\n",
    "model.to(device)\n",
    "\n",
    "criterion = torch.nn.CrossEntropyLoss()\n",
    "optimizer = LineSearchOptimizer(model.parameters(), criterion, init_step_size=1) \n",
    "# optimizer = torch.optim.SGD(model.parameters())\n",
    "\n",
    "model = train_model(model, train_loader, val_loader, optimizer, criterion, device, 5)"
   ]
  }
 ],
 "metadata": {
  "kernelspec": {
   "display_name": "optml",
   "language": "python",
   "name": "python3"
  },
  "language_info": {
   "codemirror_mode": {
    "name": "ipython",
    "version": 3
   },
   "file_extension": ".py",
   "mimetype": "text/x-python",
   "name": "python",
   "nbconvert_exporter": "python",
   "pygments_lexer": "ipython3",
   "version": "3.12.2"
  }
 },
 "nbformat": 4,
 "nbformat_minor": 5
}
