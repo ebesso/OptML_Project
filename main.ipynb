{
 "cells": [
  {
   "cell_type": "code",
   "execution_count": 1,
   "id": "e066d4f8",
   "metadata": {},
   "outputs": [],
   "source": [
    "import torch"
   ]
  },
  {
   "cell_type": "code",
   "execution_count": 2,
   "id": "8d8912e5",
   "metadata": {},
   "outputs": [],
   "source": [
    "from model import SimpleCNN\n",
    "model = SimpleCNN()"
   ]
  },
  {
   "cell_type": "code",
   "execution_count": 3,
   "id": "812b0778",
   "metadata": {},
   "outputs": [],
   "source": [
    "from loader import load\n",
    "train_loader, val_loader, test_loader = load()"
   ]
  },
  {
   "cell_type": "code",
   "execution_count": 4,
   "id": "5231906f",
   "metadata": {},
   "outputs": [],
   "source": [
    "from trainer import train as train_model\n",
    "from optimizer.sls_optimizer import SlsOptimizer "
   ]
  },
  {
   "cell_type": "code",
   "execution_count": null,
   "id": "36c0c43d",
   "metadata": {},
   "outputs": [
    {
     "name": "stdout",
     "output_type": "stream",
     "text": [
      "Using device: mps\n",
      "Epoch [1/5], Loss: 1.1571\n",
      "Validation Loss: 0.8320, Accuracy: 71.45%\n",
      "Epoch [2/5], Loss: 1.0603\n",
      "Validation Loss: 0.8320, Accuracy: 71.45%\n",
      "Epoch [3/5], Loss: 1.0645\n",
      "Validation Loss: 0.8320, Accuracy: 71.45%\n",
      "Epoch [4/5], Loss: 1.0616\n",
      "Validation Loss: 0.8320, Accuracy: 71.45%\n",
      "Epoch [5/5], Loss: 1.0616\n",
      "Validation Loss: 0.8320, Accuracy: 71.45%\n"
     ]
    }
   ],
   "source": [
    "device = torch.device(\"cuda\" if torch.cuda.is_available() else \"mps\" if torch.mps.is_available() else \"cpu\")\n",
    "print(\"Using device:\", device)\n",
    "\n",
    "model.to(device)\n",
    "\n",
    "criterion = torch.nn.CrossEntropyLoss()\n",
    "optimizer = SlsOptimizer(model.parameters(), criterion, 2, 0.0001, 2, -2, 0.01, 100) \n",
    "# optimizer = torch.optim.SGD(model.parameters())\n",
    "\n",
    "model = train_model(model, train_loader, val_loader, optimizer, criterion, device, 5)"
   ]
  }
 ],
 "metadata": {
  "kernelspec": {
   "display_name": "optml",
   "language": "python",
   "name": "python3"
  },
  "language_info": {
   "codemirror_mode": {
    "name": "ipython",
    "version": 3
   },
   "file_extension": ".py",
   "mimetype": "text/x-python",
   "name": "python",
   "nbconvert_exporter": "python",
   "pygments_lexer": "ipython3",
   "version": "3.12.2"
  }
 },
 "nbformat": 4,
 "nbformat_minor": 5
}
