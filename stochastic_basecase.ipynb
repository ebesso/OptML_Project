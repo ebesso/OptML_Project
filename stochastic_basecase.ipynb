{
 "cells": [
  {
   "cell_type": "code",
   "execution_count": 1,
   "id": "3c685745",
   "metadata": {},
   "outputs": [],
   "source": [
    "# Useful starting lines\n",
    "%matplotlib inline\n",
    "import numpy as np\n",
    "import matplotlib.pyplot as plt\n",
    "%load_ext autoreload\n",
    "%autoreload 2"
   ]
  },
  {
   "cell_type": "markdown",
   "id": "a802e998",
   "metadata": {},
   "source": [
    "## Load data"
   ]
  },
  {
   "cell_type": "code",
   "execution_count": 2,
   "id": "3214915a",
   "metadata": {},
   "outputs": [],
   "source": [
    "import datetime\n",
    "from helpers import *\n",
    "\n",
    "height, weight, gender = load_data(sub_sample=False, add_outlier=False)\n",
    "x, mean_x, std_x = standardize(height)\n",
    "b, A = build_model_data(x, weight)"
   ]
  },
  {
   "cell_type": "code",
   "execution_count": 3,
   "id": "7d9ae21b",
   "metadata": {},
   "outputs": [
    {
     "name": "stdout",
     "output_type": "stream",
     "text": [
      "(n, d) =  (10000, 2)\n"
     ]
    }
   ],
   "source": [
    "print('(n, d) = ', A.shape)"
   ]
  },
  {
   "cell_type": "markdown",
   "id": "e7db929f",
   "metadata": {},
   "source": [
    "## Least squares solution"
   ]
  },
  {
   "cell_type": "code",
   "execution_count": 4,
   "id": "fc2e2150",
   "metadata": {},
   "outputs": [],
   "source": [
    "def full_objective(targets_b, data_A, params_x):\n",
    "    \"\"\"Compute the least squares objective over the whole dataset\"\"\"\n",
    "    return 0.5 * np.mean(((data_A @ params_x) - targets_b)**2)"
   ]
  },
  {
   "cell_type": "code",
   "execution_count": 5,
   "id": "b8bc18c7",
   "metadata": {},
   "outputs": [
    {
     "name": "stdout",
     "output_type": "stream",
     "text": [
      "f(x*) =  15.385887868829398\n"
     ]
    }
   ],
   "source": [
    "x_star = np.linalg.solve(A.T@A, A.T@b)\n",
    "best_objective = full_objective(b, A, x_star)\n",
    "print(\"f(x*) = \", best_objective)"
   ]
  },
  {
   "cell_type": "markdown",
   "id": "de46232e",
   "metadata": {},
   "source": [
    "## Optimization"
   ]
  },
  {
   "cell_type": "code",
   "execution_count": 6,
   "id": "afba39b6",
   "metadata": {},
   "outputs": [],
   "source": [
    "def minibatch_gradient(targets_b, data_A, params_x):\n",
    "    \"\"\"\n",
    "    Compute a mini-batch stochastic gradient from a subset of `num_examples` from the dataset.\n",
    "    \n",
    "    :param targets_b: a numpy array of shape (num_examples)\n",
    "    :param data_A: a numpy array of shape (num_examples, num_features)\n",
    "    :param params_x: compute the mini-batch gradient at these parameters, numpy array of shape (num_features)\n",
    "    \n",
    "    :return: gradient: numpy array of shape (num_features)\n",
    "    \"\"\"\n",
    "    batch_size = len(targets_b)\n",
    "    err = targets_b - data_A.dot(params_x)\n",
    "    grad = -data_A.T.dot(err) / batch_size\n",
    "    return grad"
   ]
  },
  {
   "cell_type": "code",
   "execution_count": 7,
   "id": "80630283",
   "metadata": {},
   "outputs": [],
   "source": [
    "def stochastic_gradient(targets_b, data_A, params_x, batch_size=1):\n",
    "    \"\"\"\n",
    "    Compute a stochastic gradient\n",
    "    \n",
    "    :param targets_b: numpy array of size (num_examples)\n",
    "    :param data_A: numpy array of size (num_examples, num_features)\n",
    "    :param params_x: compute the mini-batch gradient at these parameters, numpy array of shape (num_features)\n",
    "    :param batch_size: integer: number of datapoints to compute the stochastic gradient from\n",
    "    \n",
    "    :return: gradient, numpy array of shape (num_features)\n",
    "    \"\"\"\n",
    "    dataset_size = len(targets_b)\n",
    "    indices = np.random.choice(dataset_size, batch_size, replace=False)\n",
    "    return minibatch_gradient(targets_b[indices], data_A[indices, :], params_x)"
   ]
  },
  {
   "cell_type": "code",
   "execution_count": 8,
   "id": "9dfad72d",
   "metadata": {},
   "outputs": [],
   "source": [
    "def stochastic_gradient_descent(\n",
    "        targets_b, \n",
    "        data_A, \n",
    "        initial_x, \n",
    "        batch_size, \n",
    "        max_iters, \n",
    "        initial_learning_rate, \n",
    "        decreasing_learning_rate=False):\n",
    "    \"\"\"\n",
    "    Mini-batch Stochastic Gradient Descent for Linear Least Squares problems.\n",
    "    \n",
    "    :param targets_b: numpy array of size (num_examples)\n",
    "    :param data_A: numpy array of size (num_examples, num_features)\n",
    "    :param initial_x: starting parameters, a numpy array of size (num_features)\n",
    "    :param batch_size: size of the mini-batches\n",
    "    :param max_iters: integer, number of updates to do\n",
    "    :param initial_learning_rate: float\n",
    "    :param decreasing_learning_rate: if set to true, the learning rate should decay as 1 / t \n",
    "    \n",
    "    :return:\n",
    "    - objectives, a list of loss values on the whole dataset, collected at the end of each pass over the dataset (epoch)\n",
    "    - param_states, a list of parameter vectors, collected at the end of each pass over the dataset\n",
    "    \"\"\"\n",
    "    xs = [initial_x]  # parameters after each update \n",
    "    objectives = []  # loss values after each update\n",
    "    x = initial_x\n",
    "    \n",
    "    for iteration in range(max_iters):\n",
    "        grad = stochastic_gradient(targets_b, data_A, x, batch_size=batch_size)\n",
    "        if decreasing_learning_rate:\n",
    "            lr = initial_learning_rate / (iteration + 1)\n",
    "        else:\n",
    "            lr = initial_learning_rate\n",
    "\n",
    "        # update x through the stochastic gradient update\n",
    "        x = x - lr * grad\n",
    "\n",
    "        # store x and objective\n",
    "        xs.append(x.copy())\n",
    "        objective = full_objective(targets_b, data_A, x)\n",
    "        objectives.append(objective)\n",
    "        \n",
    "        if iteration % 1000 == 0:\n",
    "            print(\"SGD({bi:04d}/{ti:04d}): objective = {l:10.2f}\".format(\n",
    "                  bi=iteration, ti=max_iters - 1, l=objective))\n",
    "    return objectives, xs"
   ]
  },
  {
   "cell_type": "code",
   "execution_count": null,
   "id": "40cb2e09",
   "metadata": {},
   "outputs": [],
   "source": [
    "def stochastic_gradient_descent_with_linesearch(\n",
    "    targets_b, \n",
    "    data_A, \n",
    "    initial_x, \n",
    "    batch_size, \n",
    "    max_iters, \n",
    "    initial_learning_rate,\n",
    "    beta=2.0, \n",
    "    gamma=0.1):\n",
    "    \"\"\"\n",
    "    Mini-batch SGD with backtracking line search (Algorithm 1 from Vaswani et al.)\n",
    "    \n",
    "    :param gamma: Armijo condition parameter (typically small like 0.1)\n",
    "    :param beta: Factor to decrease learning rate if Armijo condition is not satisfied\n",
    "    \"\"\"\n",
    "    xs = [initial_x]\n",
    "    objectives = []\n",
    "    x = initial_x.copy()\n",
    "\n",
    "    for iteration in range(max_iters):\n",
    "        grad = stochastic_gradient(targets_b, data_A, x, batch_size=batch_size)\n",
    "        grad_norm_sq = np.linalg.norm(grad) ** 2\n",
    "        lr = initial_learning_rate\n",
    "        \n",
    "        # Backtracking line search\n",
    "        while True:\n",
    "            x_new = x - lr * grad\n",
    "            f_x_new = full_objective(targets_b, data_A, x_new)\n",
    "            f_x = full_objective(targets_b, data_A, x)\n",
    "            \n",
    "            if f_x_new <= f_x - gamma * lr * grad_norm_sq:\n",
    "                break\n",
    "            lr /= beta\n",
    "\n",
    "        # Apply update\n",
    "        x = x - lr * grad\n",
    "        \n",
    "        # Logging\n",
    "        xs.append(x.copy())\n",
    "        objective = full_objective(targets_b, data_A, x)\n",
    "        objectives.append(objective)\n",
    "\n",
    "        if iteration % 1000 == 0:\n",
    "            print(\"SGD-LS({bi:04d}/{ti:04d}): lr={lr:.4e}, obj={l:.4f}\".format(\n",
    "                bi=iteration, ti=max_iters - 1, lr=lr, l=objective))\n",
    "\n",
    "    return objectives, xs\n"
   ]
  },
  {
   "cell_type": "code",
   "execution_count": 16,
   "id": "6db3553b",
   "metadata": {},
   "outputs": [
    {
     "name": "stdout",
     "output_type": "stream",
     "text": [
      "SGD(0000/9999): objective =    2767.74\n",
      "SGD(1000/9999): objective =      15.42\n",
      "SGD(2000/9999): objective =      15.93\n",
      "SGD(3000/9999): objective =      15.45\n",
      "SGD(4000/9999): objective =      15.60\n",
      "SGD(5000/9999): objective =      15.63\n",
      "SGD(6000/9999): objective =      15.39\n",
      "SGD(7000/9999): objective =      15.52\n",
      "SGD(8000/9999): objective =      15.49\n",
      "SGD(9000/9999): objective =      15.69\n",
      "SGD: execution time=5.529 seconds\n"
     ]
    }
   ],
   "source": [
    "# Define the parameters of the algorithm.\n",
    "max_iters = int(1e4)  # 10 passes through the dataset\n",
    "gamma = 0.01   # this is totally arbitrary\n",
    "batch_size = 1\n",
    "\n",
    "# Initialization\n",
    "x_initial = np.zeros(A.shape[1])\n",
    "\n",
    "# Start SGD.\n",
    "start_time = datetime.datetime.now()\n",
    "sgd_objectives, sgd_xs = stochastic_gradient_descent(\n",
    "    b, A, x_initial, batch_size, max_iters, gamma)\n",
    "end_time = datetime.datetime.now()\n",
    "\n",
    "# Print result\n",
    "exection_time = (end_time - start_time).total_seconds()\n",
    "print(\"SGD: execution time={t:.3f} seconds\".format(t=exection_time))"
   ]
  },
  {
   "cell_type": "code",
   "execution_count": 31,
   "id": "d2ecf947",
   "metadata": {},
   "outputs": [
    {
     "name": "stdout",
     "output_type": "stream",
     "text": [
      "SGD-LS(0000/0999): lr=5.0000e-02, obj=2518.5574\n",
      "SGD: execution time=5.832 seconds\n"
     ]
    }
   ],
   "source": [
    "# Define the parameters of the algorithm.\n",
    "max_iters = int(1e3)  # 10 passes through the dataset\n",
    "gamma = 0.05   # this is totally arbitrary\n",
    "batch_size = 1\n",
    "\n",
    "# Initialization\n",
    "x_initial = np.zeros(A.shape[1])\n",
    "\n",
    "# Start SGD.\n",
    "start_time = datetime.datetime.now()\n",
    "sgd__line_objectives, sgd_line_xs = stochastic_gradient_descent_with_linesearch(\n",
    "    b, A, x_initial, batch_size, max_iters, gamma)\n",
    "end_time = datetime.datetime.now()\n",
    "\n",
    "# Print result\n",
    "exection_time = (end_time - start_time).total_seconds()\n",
    "print(\"SGD: execution time={t:.3f} seconds\".format(t=exection_time))"
   ]
  },
  {
   "cell_type": "code",
   "execution_count": 32,
   "id": "7179732b",
   "metadata": {},
   "outputs": [
    {
     "data": {
      "image/png": "[encoded data removed]",
      "text/plain": [
       "<Figure size 640x480 with 1 Axes>"
      ]
     },
     "metadata": {},
     "output_type": "display_data"
    }
   ],
   "source": [
    "plt.title('Convergence rates', fontsize = 20)\n",
    "plt.loglog(sgd_objectives - best_objective, label = 'sgd')\n",
    "plt.loglog(sgd__line_objectives - best_objective, label = 'line search')\n",
    "plt.xlabel('iteration t'  , fontsize = 20)\n",
    "plt.ylabel(r'$f(x_t) - f(x^*)$', fontsize = 20)\n",
    "plt.legend(fontsize = 20)\n",
    "plt.show()"
   ]
  }
 ],
 "metadata": {
  "kernelspec": {
   "display_name": "optml",
   "language": "python",
   "name": "python3"
  },
  "language_info": {
   "codemirror_mode": {
    "name": "ipython",
    "version": 3
   },
   "file_extension": ".py",
   "mimetype": "text/x-python",
   "name": "python",
   "nbconvert_exporter": "python",
   "pygments_lexer": "ipython3",
   "version": "3.12.10"
  }
 },
 "nbformat": 4,
 "nbformat_minor": 5
}
